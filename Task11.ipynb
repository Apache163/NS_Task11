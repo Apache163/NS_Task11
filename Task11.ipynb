{
  "nbformat": 4,
  "nbformat_minor": 0,
  "metadata": {
    "colab": {
      "provenance": [],
      "authorship_tag": "ABX9TyPz1FNTnoRmhCFrTKOyMk/T",
      "include_colab_link": true
    },
    "kernelspec": {
      "name": "python3",
      "display_name": "Python 3"
    },
    "language_info": {
      "name": "python"
    }
  },
  "cells": [
    {
      "cell_type": "markdown",
      "metadata": {
        "id": "view-in-github",
        "colab_type": "text"
      },
      "source": [
        "<a href=\"https://colab.research.google.com/github/Apache163/NS_Task11/blob/main/Task11.ipynb\" target=\"_parent\"><img src=\"https://colab.research.google.com/assets/colab-badge.svg\" alt=\"Open In Colab\"/></a>"
      ]
    },
    {
      "cell_type": "code",
      "execution_count": null,
      "metadata": {
        "id": "5OgbTBZjyjH8"
      },
      "outputs": [],
      "source": [
        "import numpy as np\n",
        "from sklearn.neural_network import MLPClassifier\n",
        "from sklearn.metrics import accuracy_score\n",
        "from IPython.display import display\n",
        "import ipywidgets as widgets\n",
        "\n",
        "# Данные из таблицы 8\n",
        "data = np.array([\n",
        "    [1, 1, 0, 1],\n",
        "    [1, 0, 1, 1],\n",
        "    [0, 1, 1, 2],\n",
        "    [0, 1, 0, 3],\n",
        "    [0, 1, 1, 2],\n",
        "    [0, 0, 1, 3],\n",
        "    [0, 1, 0, 3],\n",
        "    [1, 1, 1, 1],\n",
        "    [0, 0, 0, 2]\n",
        "])\n",
        "\n",
        "X = data[:, :3]  # Первые 3 параметра\n",
        "y = data[:, 3]   # Классы\n",
        "\n",
        "# Создаем и обучаем нейронную сеть\n",
        "mlp = MLPClassifier(hidden_layer_sizes=(10,), max_iter=5000, random_state=42)\n",
        "mlp.fit(X, y)\n",
        "\n",
        "def manual_classification(params):\n",
        "    \"\"\"Ручная классификация по правилам из ТЗ\"\"\"\n",
        "    param1, param2, param3 = params\n",
        "    if param1 == 1:\n",
        "        return 1\n",
        "    elif param2 == param3:\n",
        "        return 2\n",
        "    else:\n",
        "        return 3\n",
        "\n",
        "# Создаем элементы интерфейса\n",
        "param1_dropdown = widgets.Dropdown(options=[0, 1], value=0, description='Параметр 1:')\n",
        "param2_dropdown = widgets.Dropdown(options=[0, 1], value=0, description='Параметр 2:')\n",
        "param3_dropdown = widgets.Dropdown(options=[0, 1], value=0, description='Параметр 3:')\n",
        "predict_button = widgets.Button(description=\"Классифицировать\")\n",
        "accuracy_button = widgets.Button(description=\"Показать точность\")\n",
        "output = widgets.Output()\n",
        "\n",
        "def on_predict_button_clicked(b):\n",
        "    with output:\n",
        "        output.clear_output()\n",
        "        param1 = param1_dropdown.value\n",
        "        param2 = param2_dropdown.value\n",
        "        param3 = param3_dropdown.value\n",
        "\n",
        "        input_data = np.array([[param1, param2, param3]])\n",
        "        nn_prediction = mlp.predict(input_data)[0]\n",
        "        manual_pred = manual_classification([param1, param2, param3])\n",
        "\n",
        "        print(f\"Введенные параметры: {param1}, {param2}, {param3}\")\n",
        "        print(f\"Предсказание нейронной сети: {nn_prediction}\")\n",
        "        print(f\"Ручная классификация: {manual_pred}\")\n",
        "        print(f\"Совпадают ли результаты: {'Да' if nn_prediction == manual_pred else 'Нет'}\")\n",
        "\n",
        "def on_accuracy_button_clicked(b):\n",
        "    with output:\n",
        "        output.clear_output()\n",
        "        nn_predictions = mlp.predict(X)\n",
        "        manual_predictions = np.array([manual_classification(x) for x in X])\n",
        "\n",
        "        nn_accuracy = accuracy_score(y, nn_predictions)\n",
        "        manual_accuracy = accuracy_score(y, manual_predictions)\n",
        "\n",
        "        print(f\"Точность нейронной сети на обучающих данных: {nn_accuracy:.2f}\")\n",
        "        print(f\"Точность ручной классификации: {manual_accuracy:.2f}\")\n",
        "\n",
        "predict_button.on_click(on_predict_button_clicked)\n",
        "accuracy_button.on_click(on_accuracy_button_clicked)\n",
        "\n",
        "# Отображаем интерфейс\n",
        "display(widgets.VBox([\n",
        "    param1_dropdown,\n",
        "    param2_dropdown,\n",
        "    param3_dropdown,\n",
        "    widgets.HBox([predict_button, accuracy_button]),\n",
        "    output\n",
        "]))"
      ]
    }
  ]
}